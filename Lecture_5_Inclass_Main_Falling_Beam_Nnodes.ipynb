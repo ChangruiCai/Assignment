{
  "nbformat": 4,
  "nbformat_minor": 0,
  "metadata": {
    "colab": {
      "provenance": [],
      "collapsed_sections": [
        "0VKh3YVTuDTc"
      ],
      "include_colab_link": true
    },
    "kernelspec": {
      "name": "python3",
      "display_name": "Python 3"
    },
    "language_info": {
      "name": "python"
    }
  },
  "cells": [
    {
      "cell_type": "markdown",
      "metadata": {
        "id": "view-in-github",
        "colab_type": "text"
      },
      "source": [
        "<a href=\"https://colab.research.google.com/github/ChangruiCai/Assignment/blob/main/Lecture_5_Inclass_Main_Falling_Beam_Nnodes.ipynb\" target=\"_parent\"><img src=\"https://colab.research.google.com/assets/colab-badge.svg\" alt=\"Open In Colab\"/></a>"
      ]
    },
    {
      "cell_type": "code",
      "execution_count": 47,
      "metadata": {
        "id": "Cx5n6xGyaKHi"
      },
      "outputs": [],
      "source": [
        "import numpy as np\n",
        "import matplotlib.pyplot as plt\n",
        "from IPython.display import clear_output # Only for iPython"
      ]
    },
    {
      "cell_type": "markdown",
      "source": [
        "#Helper function"
      ],
      "metadata": {
        "id": "0VKh3YVTuDTc"
      }
    },
    {
      "cell_type": "code",
      "source": [
        "def crossMat(a):\n",
        "    \"\"\"\n",
        "    Returns the cross product matrix of vector 'a'.\n",
        "\n",
        "    Parameters:\n",
        "    a : np.ndarray\n",
        "        A 3-element array representing a vector.\n",
        "\n",
        "    Returns:\n",
        "    A : np.ndarray\n",
        "        The cross product matrix corresponding to vector 'a'.\n",
        "    \"\"\"\n",
        "    A = np.array([[0, -a[2], a[1]],\n",
        "                  [a[2], 0, -a[0]],\n",
        "                  [-a[1], a[0], 0]])\n",
        "\n",
        "    return A"
      ],
      "metadata": {
        "id": "-kojfrzXuF9B"
      },
      "execution_count": 48,
      "outputs": []
    },
    {
      "cell_type": "markdown",
      "source": [
        "#Gradient and Hessian of elastic energies"
      ],
      "metadata": {
        "id": "ePDB48IItjDL"
      }
    },
    {
      "cell_type": "code",
      "execution_count": 49,
      "metadata": {
        "id": "va3tfBAUd4gI"
      },
      "outputs": [],
      "source": [
        "def gradEb(xkm1, ykm1, xk, yk, xkp1, ykp1, curvature0, l_k, EI):\n",
        "    \"\"\"\n",
        "    Returns the derivative of bending energy E_k^b with respect to\n",
        "    x_{k-1}, y_{k-1}, x_k, y_k, x_{k+1}, and y_{k+1}.\n",
        "\n",
        "    Parameters:\n",
        "    xkm1, ykm1 : float\n",
        "        Coordinates of the previous node (x_{k-1}, y_{k-1}).\n",
        "    xk, yk : float\n",
        "        Coordinates of the current node (x_k, y_k).\n",
        "    xkp1, ykp1 : float\n",
        "        Coordinates of the next node (x_{k+1}, y_{k+1}).\n",
        "    curvature0 : float\n",
        "        Discrete natural curvature at node (xk, yk).\n",
        "    l_k : float\n",
        "        Voronoi length of node (xk, yk).\n",
        "    EI : float\n",
        "        Bending stiffness.\n",
        "\n",
        "    Returns:\n",
        "    dF : np.ndarray\n",
        "        Derivative of bending energy.\n",
        "    \"\"\"\n",
        "\n",
        "    # Nodes in 3D\n",
        "    node0 = np.array([xkm1, ykm1, 0.0])\n",
        "    node1 = np.array([xk, yk, 0])\n",
        "    node2 = np.array([xkp1, ykp1, 0])\n",
        "\n",
        "    # Unit vectors along z-axis\n",
        "    m2e = np.array([0, 0, 1])\n",
        "    m2f = np.array([0, 0, 1])\n",
        "\n",
        "    kappaBar = curvature0\n",
        "\n",
        "    # Initialize gradient of curvature\n",
        "    gradKappa = np.zeros(6)\n",
        "\n",
        "    # Edge vectors\n",
        "    ee = node1 - node0\n",
        "    ef = node2 - node1\n",
        "\n",
        "    # Norms of edge vectors\n",
        "    norm_e = np.linalg.norm(ee)\n",
        "    norm_f = np.linalg.norm(ef)\n",
        "\n",
        "    # Unit tangents\n",
        "    te = ee / norm_e\n",
        "    tf = ef / norm_f\n",
        "\n",
        "    # Curvature binormal\n",
        "    kb = 2.0 * np.cross(te, tf) / (1.0 + np.dot(te, tf))\n",
        "\n",
        "    chi = 1.0 + np.dot(te, tf)\n",
        "    tilde_t = (te + tf) / chi\n",
        "    tilde_d2 = (m2e + m2f) / chi\n",
        "\n",
        "    # Curvature\n",
        "    kappa1 = kb[2]\n",
        "\n",
        "    # Gradient of kappa1 with respect to edge vectors\n",
        "    Dkappa1De = 1.0 / norm_e * (-kappa1 * tilde_t + np.cross(tf, tilde_d2))\n",
        "    Dkappa1Df = 1.0 / norm_f * (-kappa1 * tilde_t - np.cross(te, tilde_d2))\n",
        "\n",
        "    # Populate the gradient of kappa\n",
        "    gradKappa[0:2] = -Dkappa1De[0:2]\n",
        "    gradKappa[2:4] = Dkappa1De[0:2] - Dkappa1Df[0:2]\n",
        "    gradKappa[4:6] = Dkappa1Df[0:2]\n",
        "\n",
        "    # Gradient of bending energy\n",
        "    dkappa = kappa1 - kappaBar\n",
        "    dF = gradKappa * EI * dkappa / l_k\n",
        "\n",
        "    return dF"
      ]
    },
    {
      "cell_type": "code",
      "source": [
        "def hessEb(xkm1, ykm1, xk, yk, xkp1, ykp1, curvature0, l_k, EI):\n",
        "    \"\"\"\n",
        "    Returns the Hessian (second derivative) of bending energy E_k^b\n",
        "    with respect to x_{k-1}, y_{k-1}, x_k, y_k, x_{k+1}, and y_{k+1}.\n",
        "\n",
        "    Parameters:\n",
        "    xkm1, ykm1 : float\n",
        "        Coordinates of the previous node (x_{k-1}, y_{k-1}).\n",
        "    xk, yk : float\n",
        "        Coordinates of the current node (x_k, y_k).\n",
        "    xkp1, ykp1 : float\n",
        "        Coordinates of the next node (x_{k+1}, y_{k+1}).\n",
        "    curvature0 : float\n",
        "        Discrete natural curvature at node (xk, yk).\n",
        "    l_k : float\n",
        "        Voronoi length of node (xk, yk).\n",
        "    EI : float\n",
        "        Bending stiffness.\n",
        "\n",
        "    Returns:\n",
        "    dJ : np.ndarray\n",
        "        Hessian of bending energy.\n",
        "    \"\"\"\n",
        "\n",
        "    # Nodes in 3D\n",
        "    node0 = np.array([xkm1, ykm1, 0])\n",
        "    node1 = np.array([xk, yk, 0])\n",
        "    node2 = np.array([xkp1, ykp1, 0])\n",
        "\n",
        "    # Unit vectors along z-axis\n",
        "    m2e = np.array([0, 0, 1])\n",
        "    m2f = np.array([0, 0, 1])\n",
        "\n",
        "    kappaBar = curvature0\n",
        "\n",
        "    # Initialize gradient of curvature\n",
        "    gradKappa = np.zeros(6)\n",
        "\n",
        "    # Edge vectors\n",
        "    ee = node1 - node0\n",
        "    ef = node2 - node1\n",
        "\n",
        "    # Norms of edge vectors\n",
        "    norm_e = np.linalg.norm(ee)\n",
        "    norm_f = np.linalg.norm(ef)\n",
        "\n",
        "    # Unit tangents\n",
        "    te = ee / norm_e\n",
        "    tf = ef / norm_f\n",
        "\n",
        "    # Curvature binormal\n",
        "    kb = 2.0 * np.cross(te, tf) / (1.0 + np.dot(te, tf))\n",
        "\n",
        "    chi = 1.0 + np.dot(te, tf)\n",
        "    tilde_t = (te + tf) / chi\n",
        "    tilde_d2 = (m2e + m2f) / chi\n",
        "\n",
        "    # Curvature\n",
        "    kappa1 = kb[2]\n",
        "\n",
        "    # Gradient of kappa1 with respect to edge vectors\n",
        "    Dkappa1De = 1.0 / norm_e * (-kappa1 * tilde_t + np.cross(tf, tilde_d2))\n",
        "    Dkappa1Df = 1.0 / norm_f * (-kappa1 * tilde_t - np.cross(te, tilde_d2))\n",
        "\n",
        "    # Populate the gradient of kappa\n",
        "    gradKappa[0:2] = -Dkappa1De[0:2]\n",
        "    gradKappa[2:4] = Dkappa1De[0:2] - Dkappa1Df[0:2]\n",
        "    gradKappa[4:6] = Dkappa1Df[0:2]\n",
        "\n",
        "    # Compute the Hessian (second derivative of kappa)\n",
        "    DDkappa1 = np.zeros((6, 6))\n",
        "\n",
        "    norm2_e = norm_e**2\n",
        "    norm2_f = norm_f**2\n",
        "\n",
        "    Id3 = np.eye(3)\n",
        "\n",
        "    # Helper matrices for second derivatives\n",
        "    tt_o_tt = np.outer(tilde_t, tilde_t)\n",
        "    tmp = np.cross(tf, tilde_d2)\n",
        "    tf_c_d2t_o_tt = np.outer(tmp, tilde_t)\n",
        "    kb_o_d2e = np.outer(kb, m2e)\n",
        "\n",
        "    D2kappa1De2 = (2 * kappa1 * tt_o_tt - tf_c_d2t_o_tt - tf_c_d2t_o_tt.T) / norm2_e - \\\n",
        "                  kappa1 / (chi * norm2_e) * (Id3 - np.outer(te, te)) + \\\n",
        "                  (kb_o_d2e + kb_o_d2e.T) / (4 * norm2_e)\n",
        "\n",
        "    tmp = np.cross(te, tilde_d2)\n",
        "    te_c_d2t_o_tt = np.outer(tmp, tilde_t)\n",
        "    tt_o_te_c_d2t = te_c_d2t_o_tt.T\n",
        "    kb_o_d2f = np.outer(kb, m2f)\n",
        "\n",
        "    D2kappa1Df2 = (2 * kappa1 * tt_o_tt + te_c_d2t_o_tt + te_c_d2t_o_tt.T) / norm2_f - \\\n",
        "                  kappa1 / (chi * norm2_f) * (Id3 - np.outer(tf, tf)) + \\\n",
        "                  (kb_o_d2f + kb_o_d2f.T) / (4 * norm2_f)\n",
        "    D2kappa1DeDf = -kappa1 / (chi * norm_e * norm_f) * (Id3 + np.outer(te, tf)) \\\n",
        "                  + 1.0 / (norm_e * norm_f) * (2 * kappa1 * tt_o_tt - tf_c_d2t_o_tt + \\\n",
        "                  tt_o_te_c_d2t - crossMat(tilde_d2))\n",
        "    D2kappa1DfDe = D2kappa1DeDf.T\n",
        "\n",
        "    # Populate the Hessian of kappa\n",
        "    DDkappa1[0:2, 0:2] = D2kappa1De2[0:2, 0:2]\n",
        "    DDkappa1[0:2, 2:4] = -D2kappa1De2[0:2, 0:2] + D2kappa1DeDf[0:2, 0:2]\n",
        "    DDkappa1[0:2, 4:6] = -D2kappa1DeDf[0:2, 0:2]\n",
        "    DDkappa1[2:4, 0:2] = -D2kappa1De2[0:2, 0:2] + D2kappa1DfDe[0:2, 0:2]\n",
        "    DDkappa1[2:4, 2:4] = D2kappa1De2[0:2, 0:2] - D2kappa1DeDf[0:2, 0:2] - \\\n",
        "                         D2kappa1DfDe[0:2, 0:2] + D2kappa1Df2[0:2, 0:2]\n",
        "    DDkappa1[2:4, 4:6] = D2kappa1DeDf[0:2, 0:2] - D2kappa1Df2[0:2, 0:2]\n",
        "    DDkappa1[4:6, 0:2] = -D2kappa1DfDe[0:2, 0:2]\n",
        "    DDkappa1[4:6, 2:4] = D2kappa1DfDe[0:2, 0:2] - D2kappa1Df2[0:2, 0:2]\n",
        "    DDkappa1[4:6, 4:6] = D2kappa1Df2[0:2, 0:2]\n",
        "\n",
        "    # Hessian of bending energy\n",
        "    dkappa = kappa1 - kappaBar\n",
        "    dJ = 1.0 / l_k * EI * np.outer(gradKappa, gradKappa)\n",
        "    dJ += 1.0 / l_k * dkappa * EI * DDkappa1\n",
        "\n",
        "    return dJ"
      ],
      "metadata": {
        "id": "hwgt-sWpt5SW"
      },
      "execution_count": 50,
      "outputs": []
    },
    {
      "cell_type": "code",
      "source": [
        "def gradEs(xk, yk, xkp1, ykp1, l_k, EA):\n",
        "    \"\"\"\n",
        "    Calculate the gradient of the stretching energy with respect to the coordinates.\n",
        "\n",
        "    Args:\n",
        "    - xk (float): x coordinate of the current point\n",
        "    - yk (float): y coordinate of the current point\n",
        "    - xkp1 (float): x coordinate of the next point\n",
        "    - ykp1 (float): y coordinate of the next point\n",
        "    - l_k (float): reference length\n",
        "    - EA (float): elastic modulus\n",
        "\n",
        "    Returns:\n",
        "    - F (np.array): Gradient array\n",
        "    \"\"\"\n",
        "    F = np.zeros(4)\n",
        "    F[0] = -(1.0 - np.sqrt((xkp1 - xk)**2.0 + (ykp1 - yk)**2.0) / l_k) * ((xkp1 - xk)**2.0 + (ykp1 - yk)**2.0)**(-0.5) / l_k * (-2.0 * xkp1 + 2.0 * xk)\n",
        "    F[1] = -(0.1e1 - np.sqrt((xkp1 - xk) ** 2 + (ykp1 - yk) ** 2) / l_k) * ((xkp1 - xk) ** 2 + (ykp1 - yk) ** 2) ** (-0.1e1 / 0.2e1) / l_k * (-0.2e1 * ykp1 + 0.2e1 * yk)\n",
        "    F[2] = -(0.1e1 - np.sqrt((xkp1 - xk) ** 2 + (ykp1 - yk) ** 2) / l_k) * ((xkp1 - xk) ** 2 + (ykp1 - yk) ** 2) ** (-0.1e1 / 0.2e1) / l_k * (0.2e1 * xkp1 - 0.2e1 * xk)\n",
        "    F[3] = -(0.1e1 - np.sqrt((xkp1 - xk) ** 2 + (ykp1 - yk) ** 2) / l_k) * ((xkp1 - xk) ** 2 + (ykp1 - yk) ** 2) ** (-0.1e1 / 0.2e1) / l_k * (0.2e1 * ykp1 - 0.2e1 * yk)\n",
        "\n",
        "    F = 0.5 * EA * l_k * F  # Scale by EA and l_k\n",
        "\n",
        "    return F"
      ],
      "metadata": {
        "id": "f9OEpHoev3xa"
      },
      "execution_count": 51,
      "outputs": []
    },
    {
      "cell_type": "code",
      "source": [
        "def hessEs(xk, yk, xkp1, ykp1, l_k, EA):\n",
        "    \"\"\"\n",
        "    This function returns the 4x4 Hessian of the stretching energy E_k^s with\n",
        "    respect to x_k, y_k, x_{k+1}, and y_{k+1}.\n",
        "    \"\"\"\n",
        "    J = np.zeros((4, 4))  # Initialize the Hessian matrix\n",
        "    J11 = (1 / ((xkp1 - xk) ** 2 + (ykp1 - yk) ** 2) / l_k ** 2 * (-2 * xkp1 + 2 * xk) ** 2) / 0.2e1 + (0.1e1 - np.sqrt(((xkp1 - xk) ** 2 + (ykp1 - yk) ** 2)) / l_k) * (((xkp1 - xk) ** 2 + (ykp1 - yk) ** 2) ** (-0.3e1 / 0.2e1)) / l_k * ((-2 * xkp1 + 2 * xk) ** 2) / 0.2e1 - 0.2e1 * (0.1e1 - np.sqrt(((xkp1 - xk) ** 2 + (ykp1 - yk) ** 2)) / l_k) * (((xkp1 - xk) ** 2 + (ykp1 - yk) ** 2) ** (-0.1e1 / 0.2e1)) / l_k\n",
        "    J12 = (1 / ((xkp1 - xk) ** 2 + (ykp1 - yk) ** 2) / l_k ** 2 * (-2 * ykp1 + 2 * yk) * (-2 * xkp1 + 2 * xk)) / 0.2e1 + (0.1e1 - np.sqrt(((xkp1 - xk) ** 2 + (ykp1 - yk) ** 2)) / l_k) * (((xkp1 - xk) ** 2 + (ykp1 - yk) ** 2) ** (-0.3e1 / 0.2e1)) / l_k * (-2 * xkp1 + 2 * xk) * (-2 * ykp1 + 2 * yk) / 0.2e1\n",
        "    J13 = (1 / ((xkp1 - xk) ** 2 + (ykp1 - yk) ** 2) / l_k ** 2 * (2 * xkp1 - 2 * xk) * (-2 * xkp1 + 2 * xk)) / 0.2e1 + (0.1e1 - np.sqrt(((xkp1 - xk) ** 2 + (ykp1 - yk) ** 2)) / l_k) * (((xkp1 - xk) ** 2 + (ykp1 - yk) ** 2) ** (-0.3e1 / 0.2e1)) / l_k * (-2 * xkp1 + 2 * xk) * (2 * xkp1 - 2 * xk) / 0.2e1 + 0.2e1 * (0.1e1 - np.sqrt(((xkp1 - xk) ** 2 + (ykp1 - yk) ** 2)) / l_k) * (((xkp1 - xk) ** 2 + (ykp1 - yk) ** 2) ** (-0.1e1 / 0.2e1)) / l_k\n",
        "    J14 = (1 / ((xkp1 - xk) ** 2 + (ykp1 - yk) ** 2) / l_k ** 2 * (2 * ykp1 - 2 * yk) * (-2 * xkp1 + 2 * xk)) / 0.2e1 + (0.1e1 - np.sqrt(((xkp1 - xk) ** 2 + (ykp1 - yk) ** 2)) / l_k) * (((xkp1 - xk) ** 2 + (ykp1 - yk) ** 2) ** (-0.3e1 / 0.2e1)) / l_k * (-2 * xkp1 + 2 * xk) * (2 * ykp1 - 2 * yk) / 0.2e1\n",
        "    J22 = (1 / ((xkp1 - xk) ** 2 + (ykp1 - yk) ** 2) / l_k ** 2 * (-2 * ykp1 + 2 * yk) ** 2) / 0.2e1 + (0.1e1 - np.sqrt(((xkp1 - xk) ** 2 + (ykp1 - yk) ** 2)) / l_k) * (((xkp1 - xk) ** 2 + (ykp1 - yk) ** 2) ** (-0.3e1 / 0.2e1)) / l_k * ((-2 * ykp1 + 2 * yk) ** 2) / 0.2e1 - 0.2e1 * (0.1e1 - np.sqrt(((xkp1 - xk) ** 2 + (ykp1 - yk) ** 2)) / l_k) * (((xkp1 - xk) ** 2 + (ykp1 - yk) ** 2) ** (-0.1e1 / 0.2e1)) / l_k\n",
        "    J23 = (1 / ((xkp1 - xk) ** 2 + (ykp1 - yk) ** 2) / l_k ** 2 * (2 * xkp1 - 2 * xk) * (-2 * ykp1 + 2 * yk)) / 0.2e1 + (0.1e1 - np.sqrt(((xkp1 - xk) ** 2 + (ykp1 - yk) ** 2)) / l_k) * (((xkp1 - xk) ** 2 + (ykp1 - yk) ** 2) ** (-0.3e1 / 0.2e1)) / l_k * (-2 * ykp1 + 2 * yk) * (2 * xkp1 - 2 * xk) / 0.2e1\n",
        "    J24 = (1 / ((xkp1 - xk) ** 2 + (ykp1 - yk) ** 2) / l_k ** 2 * (2 * ykp1 - 2 * yk) * (-2 * ykp1 + 2 * yk)) / 0.2e1 + (0.1e1 - np.sqrt(((xkp1 - xk) ** 2 + (ykp1 - yk) ** 2)) / l_k) * (((xkp1 - xk) ** 2 + (ykp1 - yk) ** 2) ** (-0.3e1 / 0.2e1)) / l_k * (-2 * ykp1 + 2 * yk) * (2 * ykp1 - 2 * yk) / 0.2e1 + 0.2e1 * (0.1e1 - np.sqrt(((xkp1 - xk) ** 2 + (ykp1 - yk) ** 2)) / l_k) * (((xkp1 - xk) ** 2 + (ykp1 - yk) ** 2) ** (-0.1e1 / 0.2e1)) / l_k\n",
        "    J33 = (1 / ((xkp1 - xk) ** 2 + (ykp1 - yk) ** 2) / l_k ** 2 * (2 * xkp1 - 2 * xk) ** 2) / 0.2e1 + (0.1e1 - np.sqrt(((xkp1 - xk) ** 2 + (ykp1 - yk) ** 2)) / l_k) * (((xkp1 - xk) ** 2 + (ykp1 - yk) ** 2) ** (-0.3e1 / 0.2e1)) / l_k * ((2 * xkp1 - 2 * xk) ** 2) / 0.2e1 - 0.2e1 * (0.1e1 - np.sqrt(((xkp1 - xk) ** 2 + (ykp1 - yk) ** 2)) / l_k) * (((xkp1 - xk) ** 2 + (ykp1 - yk) ** 2) ** (-0.1e1 / 0.2e1)) / l_k\n",
        "    J34 = (1 / ((xkp1 - xk) ** 2 + (ykp1 - yk) ** 2) / l_k ** 2 * (2 * ykp1 - 2 * yk) * (2 * xkp1 - 2 * xk)) / 0.2e1 + (0.1e1 - np.sqrt(((xkp1 - xk) ** 2 + (ykp1 - yk) ** 2)) / l_k) * (((xkp1 - xk) ** 2 + (ykp1 - yk) ** 2) ** (-0.3e1 / 0.2e1)) / l_k * (2 * xkp1 - 2 * xk) * (2 * ykp1 - 2 * yk) / 0.2e1\n",
        "    J44 = (1 / ((xkp1 - xk) ** 2 + (ykp1 - yk) ** 2) / l_k ** 2 * (2 * ykp1 - 2 * yk) ** 2) / 0.2e1 + (0.1e1 - np.sqrt(((xkp1 - xk) ** 2 + (ykp1 - yk) ** 2)) / l_k) * (((xkp1 - xk) ** 2 + (ykp1 - yk) ** 2) ** (-0.3e1 / 0.2e1)) / l_k * ((2 * ykp1 - 2 * yk) ** 2) / 0.2e1 - 0.2e1 * (0.1e1 - np.sqrt(((xkp1 - xk) ** 2 + (ykp1 - yk) ** 2)) / l_k) * (((xkp1 - xk) ** 2 + (ykp1 - yk) ** 2) ** (-0.1e1 / 0.2e1)) / l_k\n",
        "\n",
        "    J = np.array([[J11, J12, J13, J14],\n",
        "                   [J12, J22, J23, J24],\n",
        "                   [J13, J23, J33, J34],\n",
        "                   [J14, J24, J34, J44]])\n",
        "\n",
        "    J *= 0.5 * EA * l_k\n",
        "\n",
        "    return J"
      ],
      "metadata": {
        "id": "EDftveMe_aBS"
      },
      "execution_count": 52,
      "outputs": []
    },
    {
      "cell_type": "markdown",
      "source": [
        "#Write functions to calculate elastic forces using gradEs, hessEs, gradEb, hessEb"
      ],
      "metadata": {
        "id": "2FOBi4_5rC8V"
      }
    },
    {
      "cell_type": "code",
      "source": [
        "def getFs(q, EA, deltaL):\n",
        "  # Calculate the elastic stretching force for DOF vector q\n",
        "  # Size of the output Fs is the same as q\n",
        "  # Size of the output Js is len(q) times len(q)\n",
        "\n",
        "  Fs = np.zeros_like(q)\n",
        "  Js = np.zeros((len(q), len(q)))\n",
        "\n",
        "  ndof = len(q) # number of DOFs\n",
        "  nv = int( ndof/2 )\n",
        "\n",
        "  for k in range(0, nv-1): # loop over all the nodes except the last one\n",
        "    # Get the coordinates of the current node\n",
        "    xk = q[2*k]\n",
        "    yk = q[2*k+1]\n",
        "    xkp1 = q[2*k+2]\n",
        "    ykp1 = q[2*k+3]\n",
        "    ind = np.arange(2*k, 2*k+4) # [2*k, 2*k+1, 2*k+2, 2*k+3]\n",
        "\n",
        "    # Compute the force due to E_s^k\n",
        "    gradEnergy = gradEs(xk, yk, xkp1, ykp1, deltaL, EA) # Size is 4\n",
        "    Fs[ind] = Fs[ind] - gradEnergy\n",
        "\n",
        "    hessEnergy = hessEs(xk, yk, xkp1, ykp1, deltaL, EA) # Size is 4x4\n",
        "    Js[np.ix_(ind, ind)] = Js[np.ix_(ind, ind)] - hessEnergy\n",
        "\n",
        "  return Fs, Js"
      ],
      "metadata": {
        "id": "otQ-HKudrJLO"
      },
      "execution_count": 53,
      "outputs": []
    },
    {
      "cell_type": "code",
      "source": [
        "def getFb(q, EI, deltaL):\n",
        "  # Calculate the elastic bending force for DOF vector q\n",
        "  # Size of the output Fb is the same as q\n",
        "  # Size of the output Jb is len(q) times len(q)\n",
        "\n",
        "  Fb = np.zeros_like(q)\n",
        "  Jb = np.zeros((len(q), len(q)))\n",
        "\n",
        "  ndof = len(q) # number of DOFs\n",
        "  nv = int( ndof/2 )\n",
        "\n",
        "  for k in range(1, nv-1): # loop over all the nodes except the first and last one\n",
        "    # Extract relevants DOFs from q\n",
        "    xkm1 = q[2*k-2]\n",
        "    ykm1 = q[2*k-1]\n",
        "    xk = q[2*k]\n",
        "    yk = q[2*k+1]\n",
        "    xkp1 = q[2*k+2]\n",
        "    ykp1 = q[2*k+3]\n",
        "    ind = np.arange(2*k-2, 2*k+4) # [2*k-2, 2*k-1, 2*k, 2*k+1, 2*k+2, 2*k+3]\n",
        "\n",
        "    # Compute the force due to E_b\n",
        "    gradEnergy = gradEb(xkm1, ykm1, xk, yk, xkp1, ykp1, 0, deltaL, EI) # Size is 6\n",
        "    Fb[ind] = Fb[ind] - gradEnergy\n",
        "\n",
        "    hessEnergy = hessEb(xkm1, ykm1, xk, yk, xkp1, ykp1, 0, deltaL, EI) # Size is 6x6\n",
        "    Jb[np.ix_(ind,ind)] = Jb[np.ix_(ind,ind)] - hessEnergy\n",
        "\n",
        "  return Fb, Jb"
      ],
      "metadata": {
        "id": "x_xHWCO_tQ4v"
      },
      "execution_count": 54,
      "outputs": []
    },
    {
      "cell_type": "markdown",
      "source": [
        "#Objective function\n",
        "\n",
        "Knowing old position and old velocity, I want to compute the new position. The new velocity can be computed trivially."
      ],
      "metadata": {
        "id": "ABsc4kMPm-Ms"
      }
    },
    {
      "cell_type": "code",
      "source": [
        "def objfun(q_guess, q_old, u_old, dt, tol, maximum_iter,\n",
        "           m, mMat,  # inertia\n",
        "           EI, EA,   # elastic stiffness\n",
        "           deltaL,\n",
        "           free_index,# free_index indicates the DOFs that evolve under equations of motion\n",
        "           fload):\n",
        "\n",
        "  # q_guess: Guess solution for the DOF vector at the new timestep\n",
        "  # q_old: Old position (DOF) from the old time step\n",
        "  # u_old: Old velocity (derivative of DOFs) from the old time step\n",
        "  # Need to compute q_new\n",
        "\n",
        "  q_new = q_guess.copy()\n",
        "\n",
        "  # Newton-Raphson scheme\n",
        "  error = 10 * tol\n",
        "  iter_count = 0 # number of iterations\n",
        "  flag = 1 # start with a positive (\"good\") flag\n",
        "\n",
        "  while error > tol:\n",
        "    # Calculate the elastic forces: Fb, Fs (-gradient of Eb and -gradient of Es)\n",
        "    Fb, Jb = getFb(q_new, EI, deltaL)\n",
        "    Fs, Js = getFs(q_new, EA, deltaL)\n",
        "\n",
        "\n",
        "\n",
        "    # Calculate the \"force\" (LHS of equations of motion) and the Jacobian\n",
        "    f = m * (q_new - q_old) / dt**2 - m * u_old / dt - (Fb + Fs + fload)\n",
        "    J = mMat / dt**2 - (Jb+Js+Jv)\n",
        "\n",
        "    # We have to separate the \"free\" parts of f and J\n",
        "    f_free = f[free_index]\n",
        "    J_free = J[np.ix_(free_index, free_index)]\n",
        "\n",
        "    # Newton's update\n",
        "    # q_new = q_new - np.linalg.solve(J, f)\n",
        "    # Only update the free DOFs\n",
        "    dq_free = np.linalg.solve(J_free, f_free)\n",
        "    q_new[free_index] = q_new[free_index] - dq_free\n",
        "    # q_new[fixed_index] = q_fixed : not necessary here bc boundary conditions do not change with time\n",
        "\n",
        "    # Calculate the error\n",
        "    error = np.linalg.norm(f_free)\n",
        "\n",
        "    # Update iteration number\n",
        "    iter_count += 1\n",
        "    # print(\"Iteration: %d\" % iter_count)\n",
        "    # print(\"Error: %f\" % error)\n",
        "    if iter_count > maximum_iter:\n",
        "      flag = -1\n",
        "      print(\"Maximum number of iterations reached.\")\n",
        "      return q_new, flag\n",
        "\n",
        "  return q_new, flag"
      ],
      "metadata": {
        "id": "Knar9vrcmvei"
      },
      "execution_count": 55,
      "outputs": []
    },
    {
      "cell_type": "markdown",
      "source": [
        "#Main Function"
      ],
      "metadata": {
        "id": "_bqrp6wWs4y8"
      }
    },
    {
      "cell_type": "code",
      "source": [
        "# PART 1: Define variables  and initial conditions\n",
        "# Number of nodes\n",
        "nv = 50\n",
        "ndof = 2 * nv # number of DOFs\n",
        "\n",
        "# Time step\n",
        "dt = 1e-2 # trial and error may be needed\n",
        "\n",
        "# Rod Length\n",
        "RodLength = 1 # meter\n",
        "\n",
        "# Discrete Length\n",
        "deltaL = RodLength / (nv - 1)\n",
        "\n",
        "# Radii of spheres\n",
        "\n",
        "midNode = int ((nv+1)/2)\n",
        "\n",
        "\n",
        "# Densities\n",
        "rho_metal = 2700 # kg/m^3\n",
        "\n",
        "\n",
        "# Cross-sectional radius of rod\n",
        "rout = 0.013\n",
        "rin = 0.011\n",
        "\n",
        "# Young's modulus\n",
        "Y = 7e10\n",
        "\n",
        "\n",
        "\n",
        "# Maximum number of iterations\n",
        "maximum_iter = 100\n",
        "\n",
        "# Total time\n",
        "totalTime = 1 # seconds\n",
        "\n",
        "# Utility variables\n",
        "ne = nv - 1 # Number of edges\n",
        "EI = Y * np.pi * r0 ** 4 / 4 # Bending stiffness (Nm^2)\n",
        "EA = Y * np.pi * r0 ** 2 # Stretching stiffness (N)\n",
        "\n",
        "# tolerance on force\n",
        "tol = EI / RodLength ** 2 * 1e-3 # small enough force\n",
        "# Fload\n",
        "P = 2000\n",
        "fload = np.zeros(ndof)\n",
        "position = int(0.75*nv)*2-1\n",
        "fload[position] = -P\n",
        "\n",
        "\n",
        "# Geometry\n",
        "nodes = np.zeros((nv, 2))\n",
        "for c in range(nv):\n",
        "  nodes[c, 0] = c * deltaL\n",
        "\n",
        "\n",
        "# Computer Mass\n",
        "m = np.zeros(ndof) # 2*nv = ndof\n",
        "for k in range(nv):\n",
        "  m[2*k] = np.pi* rho_metal*RodLength*(rout**2-rin**2)/(nv-1)\n",
        "  m[2*k+1] = m[2*k] # mass for y_k\n",
        "mMat = np.diag(m)\n",
        "\n",
        "\n",
        "\n",
        "# Initial conditions (positions and velocities)\n",
        "q0 = np.zeros(2*nv)\n",
        "for c in range(nv):\n",
        "  q0[2*c] = nodes[c, 0] # x coord of c-th node\n",
        "  q0[2*c+1] = nodes[c, 1] # y coord of c-th node\n",
        "\n",
        "q = q0.copy()\n",
        "u = (q - q0) / dt # all zeros"
      ],
      "metadata": {
        "id": "k7_i4yA7s3mK"
      },
      "execution_count": 56,
      "outputs": []
    },
    {
      "cell_type": "markdown",
      "source": [
        "**We have to figure out free_index and fixed_index**"
      ],
      "metadata": {
        "id": "rh116oQriyxr"
      }
    },
    {
      "cell_type": "code",
      "source": [
        "all_DOFs = np.arange(ndof)\n",
        "fixed_index = np.array([0, 1, ndof-1]) # If you need to add more fixed DOFs, just add them here. Be mindful of Python/MATLAB's indexing convention\n",
        "# free_index is the difference between all_DOFs and fixed_index\n",
        "free_index = np.setdiff1d(all_DOFs, fixed_index)"
      ],
      "metadata": {
        "id": "jPXWiZniiyHJ"
      },
      "execution_count": 57,
      "outputs": []
    },
    {
      "cell_type": "code",
      "source": [
        "g"
      ],
      "metadata": {
        "id": "OLXi1CykzAPv",
        "outputId": "c7a53147-4969-464a-b5ca-0bcc8a1c5429",
        "colab": {
          "base_uri": "https://localhost:8080/"
        }
      },
      "execution_count": 58,
      "outputs": [
        {
          "output_type": "execute_result",
          "data": {
            "text/plain": [
              "array([ 0. , -9.8])"
            ]
          },
          "metadata": {},
          "execution_count": 58
        }
      ]
    },
    {
      "cell_type": "code",
      "source": [
        "# PART 2\n",
        "# Time stepping scheme\n",
        "#\n",
        "Nsteps = round(totalTime / dt)\n",
        "ctime = 0 # Current time\n",
        "\n",
        "# Some arrays to store the results (not mandatory)\n",
        "all_pos = np.zeros(Nsteps) # y coordinate of middle node\n",
        "all_v = np.zeros(Nsteps) # y velocity of middle node\n",
        "Angle = np.zeros(Nsteps) # angle/bent shape at middle node (radians)\n",
        "\n",
        "plotStep = 50 # Plot every 50 time steps\n",
        "\n",
        "for timeStep in range(1, Nsteps):\n",
        "  # print('t = %f' % ctime)\n",
        "\n",
        "  q, flag = objfun(q0, q0, u, dt, tol, maximum_iter, m, mMat, EI, EA, deltaL,\n",
        "                      free_index,fload)\n",
        "\n",
        "  if flag < 0:\n",
        "    print('Could not converge')\n",
        "    break\n",
        "\n",
        "  u = (q - q0) / dt # New velocity\n",
        "\n",
        "  # Update old position\n",
        "  q0 = q.copy() # New position\n",
        "  ctime += dt # Update time\n",
        "\n",
        "  # Plotting\n",
        "  if timeStep % plotStep == 0:\n",
        "    x_arr = q[::2] # x coordinates\n",
        "    y_arr = q[1::2] # y coordinates\n",
        "    plt.clf()\n",
        "    clear_output(wait=True) # Only iPython\n",
        "    plt.plot(x_arr, y_arr, 'o-')\n",
        "    plt.xlabel('x')\n",
        "    plt.ylabel('y')\n",
        "    plt.axis('equal')\n",
        "    plt.title('t=%f'%ctime)\n",
        "    plt.show()\n",
        "\n",
        "\n",
        "\n",
        "  # print(q[position]):\n",
        "  all_pos[timeStep]= q[position]\n",
        "  for i in range(nv):\n",
        "    all_pos[timeStep]= q[i] if q[i]<all_pos[timeStep] else all_pos[timeStep]\n",
        "  all_v[timeStep] = u[position]\n",
        "\n",
        "# Plotting\n",
        "plt.figure(2)\n",
        "t = np.linspace(0, totalTime, Nsteps)\n",
        "plt.plot(t, all_pos)\n",
        "plt.xlabel('Time, t [second]')\n",
        "plt.ylabel('Position, y [m]')\n",
        "\n",
        "plt.figure(3)\n",
        "plt.plot(t, all_v)\n",
        "plt.xlabel('Time, t [second]')\n",
        "plt.ylabel('Velocity, v [m/s]')\n",
        "\n",
        "plt.figure(4)\n",
        "plt.plot(t, midAngle)\n",
        "plt.xlabel('Time, t [second]')\n",
        "plt.ylabel('Angle, $\\\\alpha$ [deg]')\n",
        "\n",
        "plt.show()"
      ],
      "metadata": {
        "colab": {
          "base_uri": "https://localhost:8080/",
          "height": 343
        },
        "id": "YKy7nj1k3E0A",
        "outputId": "087cfd30-7ec9-4a41-b85b-9b70dc27c7f8"
      },
      "execution_count": 59,
      "outputs": [
        {
          "output_type": "error",
          "ename": "NameError",
          "evalue": "name 'Jv' is not defined",
          "traceback": [
            "\u001b[0;31m---------------------------------------------------------------------------\u001b[0m",
            "\u001b[0;31mNameError\u001b[0m                                 Traceback (most recent call last)",
            "\u001b[0;32m<ipython-input-59-00555a3423ba>\u001b[0m in \u001b[0;36m<cell line: 14>\u001b[0;34m()\u001b[0m\n\u001b[1;32m     15\u001b[0m   \u001b[0;31m# print('t = %f' % ctime)\u001b[0m\u001b[0;34m\u001b[0m\u001b[0;34m\u001b[0m\u001b[0m\n\u001b[1;32m     16\u001b[0m \u001b[0;34m\u001b[0m\u001b[0m\n\u001b[0;32m---> 17\u001b[0;31m   q, flag = objfun(q0, q0, u, dt, tol, maximum_iter, m, mMat, EI, EA, deltaL,\n\u001b[0m\u001b[1;32m     18\u001b[0m                       free_index,fload)\n\u001b[1;32m     19\u001b[0m \u001b[0;34m\u001b[0m\u001b[0m\n",
            "\u001b[0;32m<ipython-input-55-b270c63756b4>\u001b[0m in \u001b[0;36mobjfun\u001b[0;34m(q_guess, q_old, u_old, dt, tol, maximum_iter, m, mMat, EI, EA, deltaL, free_index, fload)\u001b[0m\n\u001b[1;32m     27\u001b[0m     \u001b[0;31m# Calculate the \"force\" (LHS of equations of motion) and the Jacobian\u001b[0m\u001b[0;34m\u001b[0m\u001b[0;34m\u001b[0m\u001b[0m\n\u001b[1;32m     28\u001b[0m     \u001b[0mf\u001b[0m \u001b[0;34m=\u001b[0m \u001b[0mm\u001b[0m \u001b[0;34m*\u001b[0m \u001b[0;34m(\u001b[0m\u001b[0mq_new\u001b[0m \u001b[0;34m-\u001b[0m \u001b[0mq_old\u001b[0m\u001b[0;34m)\u001b[0m \u001b[0;34m/\u001b[0m \u001b[0mdt\u001b[0m\u001b[0;34m**\u001b[0m\u001b[0;36m2\u001b[0m \u001b[0;34m-\u001b[0m \u001b[0mm\u001b[0m \u001b[0;34m*\u001b[0m \u001b[0mu_old\u001b[0m \u001b[0;34m/\u001b[0m \u001b[0mdt\u001b[0m \u001b[0;34m-\u001b[0m \u001b[0;34m(\u001b[0m\u001b[0mFb\u001b[0m \u001b[0;34m+\u001b[0m \u001b[0mFs\u001b[0m \u001b[0;34m+\u001b[0m \u001b[0mfload\u001b[0m\u001b[0;34m)\u001b[0m\u001b[0;34m\u001b[0m\u001b[0;34m\u001b[0m\u001b[0m\n\u001b[0;32m---> 29\u001b[0;31m     \u001b[0mJ\u001b[0m \u001b[0;34m=\u001b[0m \u001b[0mmMat\u001b[0m \u001b[0;34m/\u001b[0m \u001b[0mdt\u001b[0m\u001b[0;34m**\u001b[0m\u001b[0;36m2\u001b[0m \u001b[0;34m-\u001b[0m \u001b[0;34m(\u001b[0m\u001b[0mJb\u001b[0m\u001b[0;34m+\u001b[0m\u001b[0mJs\u001b[0m\u001b[0;34m+\u001b[0m\u001b[0mJv\u001b[0m\u001b[0;34m)\u001b[0m\u001b[0;34m\u001b[0m\u001b[0;34m\u001b[0m\u001b[0m\n\u001b[0m\u001b[1;32m     30\u001b[0m \u001b[0;34m\u001b[0m\u001b[0m\n\u001b[1;32m     31\u001b[0m     \u001b[0;31m# We have to separate the \"free\" parts of f and J\u001b[0m\u001b[0;34m\u001b[0m\u001b[0;34m\u001b[0m\u001b[0m\n",
            "\u001b[0;31mNameError\u001b[0m: name 'Jv' is not defined"
          ]
        }
      ]
    },
    {
      "cell_type": "code",
      "source": [],
      "metadata": {
        "id": "3KK3XCeM3PJl"
      },
      "execution_count": null,
      "outputs": []
    }
  ]
}